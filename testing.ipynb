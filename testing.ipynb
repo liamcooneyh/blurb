{
 "cells": [
  {
   "cell_type": "code",
   "execution_count": 3,
   "metadata": {},
   "outputs": [],
   "source": [
    "import requests \n",
    "\n",
    "res = requests.post('https://stackoverflow.com/questions/26000336')\n",
    "\n"
   ]
  },
  {
   "cell_type": "markdown",
   "metadata": {},
   "source": [
    "Client ID: d2becfdac6cf40b2a22a2adfee1d8d6a\n",
    "Client secret: 27339c83bd4943c88339b9ee23ae97c6"
   ]
  },
  {
   "cell_type": "markdown",
   "metadata": {},
   "source": [
    "curl -X POST \"https://accounts.spotify.com/api/token\" \\\n",
    "     -H \"Content-Type: application/x-www-form-urlencoded\" \\\n",
    "     -d \"grant_type=client_credentials&client_id=your-client-id&client_secret=your-client-secret\""
   ]
  }
 ],
 "metadata": {
  "kernelspec": {
   "display_name": "Python 3",
   "language": "python",
   "name": "python3"
  },
  "language_info": {
   "codemirror_mode": {
    "name": "ipython",
    "version": 3
   },
   "file_extension": ".py",
   "mimetype": "text/x-python",
   "name": "python",
   "nbconvert_exporter": "python",
   "pygments_lexer": "ipython3",
   "version": "3.11.4"
  }
 },
 "nbformat": 4,
 "nbformat_minor": 2
}
